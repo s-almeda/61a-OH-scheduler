{
 "cells": [
  {
   "cell_type": "code",
   "execution_count": null,
   "metadata": {},
   "outputs": [
    {
     "name": "stdout",
     "output_type": "stream",
     "text": [
      "Requirement already satisfied: google-cloud-storage in /Users/shmalmeda/virtualenvs/python_3_12/lib/python3.12/site-packages (2.18.2)\n",
      "Requirement already satisfied: google-auth<3.0dev,>=2.26.1 in /Users/shmalmeda/virtualenvs/python_3_12/lib/python3.12/site-packages (from google-cloud-storage) (2.34.0)\n",
      "Requirement already satisfied: google-api-core<3.0.0dev,>=2.15.0 in /Users/shmalmeda/virtualenvs/python_3_12/lib/python3.12/site-packages (from google-cloud-storage) (2.19.2)\n",
      "Requirement already satisfied: google-cloud-core<3.0dev,>=2.3.0 in /Users/shmalmeda/virtualenvs/python_3_12/lib/python3.12/site-packages (from google-cloud-storage) (2.4.1)\n",
      "Requirement already satisfied: google-resumable-media>=2.7.2 in /Users/shmalmeda/virtualenvs/python_3_12/lib/python3.12/site-packages (from google-cloud-storage) (2.7.2)\n",
      "Requirement already satisfied: requests<3.0.0dev,>=2.18.0 in /Users/shmalmeda/virtualenvs/python_3_12/lib/python3.12/site-packages (from google-cloud-storage) (2.32.3)\n",
      "Requirement already satisfied: google-crc32c<2.0dev,>=1.0 in /Users/shmalmeda/virtualenvs/python_3_12/lib/python3.12/site-packages (from google-cloud-storage) (1.5.0)\n",
      "Requirement already satisfied: googleapis-common-protos<2.0.dev0,>=1.56.2 in /Users/shmalmeda/virtualenvs/python_3_12/lib/python3.12/site-packages (from google-api-core<3.0.0dev,>=2.15.0->google-cloud-storage) (1.65.0)\n",
      "Requirement already satisfied: protobuf!=3.20.0,!=3.20.1,!=4.21.0,!=4.21.1,!=4.21.2,!=4.21.3,!=4.21.4,!=4.21.5,<6.0.0.dev0,>=3.19.5 in /Users/shmalmeda/virtualenvs/python_3_12/lib/python3.12/site-packages (from google-api-core<3.0.0dev,>=2.15.0->google-cloud-storage) (5.28.0)\n",
      "Requirement already satisfied: proto-plus<2.0.0dev,>=1.22.3 in /Users/shmalmeda/virtualenvs/python_3_12/lib/python3.12/site-packages (from google-api-core<3.0.0dev,>=2.15.0->google-cloud-storage) (1.24.0)\n",
      "Requirement already satisfied: cachetools<6.0,>=2.0.0 in /Users/shmalmeda/virtualenvs/python_3_12/lib/python3.12/site-packages (from google-auth<3.0dev,>=2.26.1->google-cloud-storage) (5.5.0)\n",
      "Requirement already satisfied: pyasn1-modules>=0.2.1 in /Users/shmalmeda/virtualenvs/python_3_12/lib/python3.12/site-packages (from google-auth<3.0dev,>=2.26.1->google-cloud-storage) (0.4.0)\n",
      "Requirement already satisfied: rsa<5,>=3.1.4 in /Users/shmalmeda/virtualenvs/python_3_12/lib/python3.12/site-packages (from google-auth<3.0dev,>=2.26.1->google-cloud-storage) (4.9)\n",
      "Requirement already satisfied: charset-normalizer<4,>=2 in /Users/shmalmeda/virtualenvs/python_3_12/lib/python3.12/site-packages (from requests<3.0.0dev,>=2.18.0->google-cloud-storage) (3.3.2)\n",
      "Requirement already satisfied: idna<4,>=2.5 in /Users/shmalmeda/virtualenvs/python_3_12/lib/python3.12/site-packages (from requests<3.0.0dev,>=2.18.0->google-cloud-storage) (3.7)\n",
      "Requirement already satisfied: urllib3<3,>=1.21.1 in /Users/shmalmeda/virtualenvs/python_3_12/lib/python3.12/site-packages (from requests<3.0.0dev,>=2.18.0->google-cloud-storage) (2.2.2)\n",
      "Requirement already satisfied: certifi>=2017.4.17 in /Users/shmalmeda/virtualenvs/python_3_12/lib/python3.12/site-packages (from requests<3.0.0dev,>=2.18.0->google-cloud-storage) (2024.7.4)\n",
      "Requirement already satisfied: pyasn1<0.7.0,>=0.4.6 in /Users/shmalmeda/virtualenvs/python_3_12/lib/python3.12/site-packages (from pyasn1-modules>=0.2.1->google-auth<3.0dev,>=2.26.1->google-cloud-storage) (0.6.0)\n"
     ]
    }
   ],
   "source": [
    "!pip install --upgrade google-cloud-storage\n",
    "!pip install cvxpy\n",
    "!pip install cvxopt\n",
    "!pip install -r requirements.txt"
   ]
  },
  {
   "cell_type": "code",
   "execution_count": 2,
   "metadata": {},
   "outputs": [],
   "source": [
    "import State\n",
    "import utils\n",
    "import os"
   ]
  },
  {
   "cell_type": "code",
   "execution_count": 1,
   "metadata": {},
   "outputs": [
    {
     "ename": "DefaultCredentialsError",
     "evalue": "The file credentials.json does not have a valid type. Type is None, expected one of ('authorized_user', 'service_account', 'external_account', 'external_account_authorized_user', 'impersonated_service_account', 'gdch_service_account').",
     "output_type": "error",
     "traceback": [
      "\u001b[0;31m---------------------------------------------------------------------------\u001b[0m",
      "\u001b[0;31mDefaultCredentialsError\u001b[0m                   Traceback (most recent call last)",
      "Cell \u001b[0;32mIn[1], line 21\u001b[0m\n\u001b[1;32m     18\u001b[0m DEMAND_RANGE \u001b[38;5;241m=\u001b[39m \u001b[38;5;124m'\u001b[39m\u001b[38;5;124mDemand!A2:E\u001b[39m\u001b[38;5;124m'\u001b[39m\n\u001b[1;32m     20\u001b[0m config \u001b[38;5;241m=\u001b[39m config_read\u001b[38;5;241m.\u001b[39mread_config(\u001b[38;5;124m\"\u001b[39m\u001b[38;5;124mconfig.json\u001b[39m\u001b[38;5;124m\"\u001b[39m)\n\u001b[0;32m---> 21\u001b[0m \u001b[43mvalidation\u001b[49m\u001b[38;5;241;43m.\u001b[39;49m\u001b[43mvalidate_config\u001b[49m\u001b[43m(\u001b[49m\u001b[43mconfig\u001b[49m\u001b[43m)\u001b[49m\n\u001b[1;32m     23\u001b[0m \u001b[38;5;66;03m# Get availabilities data\u001b[39;00m\n\u001b[1;32m     24\u001b[0m availabilities_id \u001b[38;5;241m=\u001b[39m config_read\u001b[38;5;241m.\u001b[39mget_google_sheets_id(config[\u001b[38;5;124m\"\u001b[39m\u001b[38;5;124mavailabilities_link\u001b[39m\u001b[38;5;124m\"\u001b[39m])\n",
      "File \u001b[0;32m~/Documents/cs61a88c/61a-OH-scheduler/validation.py:39\u001b[0m, in \u001b[0;36mvalidate_config\u001b[0;34m(config)\u001b[0m\n\u001b[1;32m     36\u001b[0m         \u001b[38;5;28;01mraise\u001b[39;00m \u001b[38;5;167;01mValueError\u001b[39;00m(\u001b[38;5;124mf\u001b[39m\u001b[38;5;124m\"\u001b[39m\u001b[38;5;124mConfig field \u001b[39m\u001b[38;5;132;01m{\u001b[39;00mkey\u001b[38;5;132;01m}\u001b[39;00m\u001b[38;5;124m is empty\u001b[39m\u001b[38;5;124m\"\u001b[39m)\n\u001b[1;32m     38\u001b[0m \u001b[38;5;66;03m# Check if google project exists and if we have permission\u001b[39;00m\n\u001b[0;32m---> 39\u001b[0m client \u001b[38;5;241m=\u001b[39m \u001b[43mstorage\u001b[49m\u001b[38;5;241;43m.\u001b[39;49m\u001b[43mClient\u001b[49m\u001b[43m(\u001b[49m\u001b[43mproject\u001b[49m\u001b[38;5;241;43m=\u001b[39;49m\u001b[43mconfig\u001b[49m\u001b[43m[\u001b[49m\u001b[38;5;124;43m\"\u001b[39;49m\u001b[38;5;124;43mproject_id\u001b[39;49m\u001b[38;5;124;43m\"\u001b[39;49m\u001b[43m]\u001b[49m\u001b[43m)\u001b[49m\n\u001b[1;32m     41\u001b[0m \u001b[38;5;66;03m# Check if bucket exists and we have permission\u001b[39;00m\n\u001b[1;32m     42\u001b[0m \u001b[38;5;28;01mtry\u001b[39;00m:\n",
      "File \u001b[0;32m~/virtualenvs/python_3_12/lib/python3.12/site-packages/google/cloud/storage/client.py:227\u001b[0m, in \u001b[0;36mClient.__init__\u001b[0;34m(self, project, credentials, _http, client_info, client_options, use_auth_w_custom_endpoint, extra_headers)\u001b[0m\n\u001b[1;32m    224\u001b[0m             no_project \u001b[38;5;241m=\u001b[39m \u001b[38;5;28;01mTrue\u001b[39;00m\n\u001b[1;32m    225\u001b[0m             project \u001b[38;5;241m=\u001b[39m \u001b[38;5;124m\"\u001b[39m\u001b[38;5;124m<none>\u001b[39m\u001b[38;5;124m\"\u001b[39m\n\u001b[0;32m--> 227\u001b[0m \u001b[38;5;28;43msuper\u001b[39;49m\u001b[43m(\u001b[49m\u001b[43mClient\u001b[49m\u001b[43m,\u001b[49m\u001b[43m \u001b[49m\u001b[38;5;28;43mself\u001b[39;49m\u001b[43m)\u001b[49m\u001b[38;5;241;43m.\u001b[39;49m\u001b[38;5;21;43m__init__\u001b[39;49m\u001b[43m(\u001b[49m\n\u001b[1;32m    228\u001b[0m \u001b[43m    \u001b[49m\u001b[43mproject\u001b[49m\u001b[38;5;241;43m=\u001b[39;49m\u001b[43mproject\u001b[49m\u001b[43m,\u001b[49m\n\u001b[1;32m    229\u001b[0m \u001b[43m    \u001b[49m\u001b[43mcredentials\u001b[49m\u001b[38;5;241;43m=\u001b[39;49m\u001b[43mcredentials\u001b[49m\u001b[43m,\u001b[49m\n\u001b[1;32m    230\u001b[0m \u001b[43m    \u001b[49m\u001b[43mclient_options\u001b[49m\u001b[38;5;241;43m=\u001b[39;49m\u001b[43mclient_options\u001b[49m\u001b[43m,\u001b[49m\n\u001b[1;32m    231\u001b[0m \u001b[43m    \u001b[49m\u001b[43m_http\u001b[49m\u001b[38;5;241;43m=\u001b[39;49m\u001b[43m_http\u001b[49m\u001b[43m,\u001b[49m\n\u001b[1;32m    232\u001b[0m \u001b[43m\u001b[49m\u001b[43m)\u001b[49m\n\u001b[1;32m    234\u001b[0m \u001b[38;5;66;03m# Validate that the universe domain of the credentials matches the\u001b[39;00m\n\u001b[1;32m    235\u001b[0m \u001b[38;5;66;03m# universe domain of the client.\u001b[39;00m\n\u001b[1;32m    236\u001b[0m \u001b[38;5;28;01mif\u001b[39;00m \u001b[38;5;28mself\u001b[39m\u001b[38;5;241m.\u001b[39m_credentials\u001b[38;5;241m.\u001b[39muniverse_domain \u001b[38;5;241m!=\u001b[39m \u001b[38;5;28mself\u001b[39m\u001b[38;5;241m.\u001b[39muniverse_domain:\n",
      "File \u001b[0;32m~/virtualenvs/python_3_12/lib/python3.12/site-packages/google/cloud/client/__init__.py:321\u001b[0m, in \u001b[0;36mClientWithProject.__init__\u001b[0;34m(self, project, credentials, client_options, _http)\u001b[0m\n\u001b[1;32m    319\u001b[0m \u001b[38;5;28;01mdef\u001b[39;00m \u001b[38;5;21m__init__\u001b[39m(\u001b[38;5;28mself\u001b[39m, project\u001b[38;5;241m=\u001b[39m\u001b[38;5;28;01mNone\u001b[39;00m, credentials\u001b[38;5;241m=\u001b[39m\u001b[38;5;28;01mNone\u001b[39;00m, client_options\u001b[38;5;241m=\u001b[39m\u001b[38;5;28;01mNone\u001b[39;00m, _http\u001b[38;5;241m=\u001b[39m\u001b[38;5;28;01mNone\u001b[39;00m):\n\u001b[1;32m    320\u001b[0m     _ClientProjectMixin\u001b[38;5;241m.\u001b[39m\u001b[38;5;21m__init__\u001b[39m(\u001b[38;5;28mself\u001b[39m, project\u001b[38;5;241m=\u001b[39mproject, credentials\u001b[38;5;241m=\u001b[39mcredentials)\n\u001b[0;32m--> 321\u001b[0m     \u001b[43mClient\u001b[49m\u001b[38;5;241;43m.\u001b[39;49m\u001b[38;5;21;43m__init__\u001b[39;49m\u001b[43m(\u001b[49m\n\u001b[1;32m    322\u001b[0m \u001b[43m        \u001b[49m\u001b[38;5;28;43mself\u001b[39;49m\u001b[43m,\u001b[49m\u001b[43m \u001b[49m\u001b[43mcredentials\u001b[49m\u001b[38;5;241;43m=\u001b[39;49m\u001b[43mcredentials\u001b[49m\u001b[43m,\u001b[49m\u001b[43m \u001b[49m\u001b[43mclient_options\u001b[49m\u001b[38;5;241;43m=\u001b[39;49m\u001b[43mclient_options\u001b[49m\u001b[43m,\u001b[49m\u001b[43m \u001b[49m\u001b[43m_http\u001b[49m\u001b[38;5;241;43m=\u001b[39;49m\u001b[43m_http\u001b[49m\n\u001b[1;32m    323\u001b[0m \u001b[43m    \u001b[49m\u001b[43m)\u001b[49m\n",
      "File \u001b[0;32m~/virtualenvs/python_3_12/lib/python3.12/site-packages/google/cloud/client/__init__.py:178\u001b[0m, in \u001b[0;36mClient.__init__\u001b[0;34m(self, credentials, _http, client_options)\u001b[0m\n\u001b[1;32m    174\u001b[0m         credentials, _ \u001b[38;5;241m=\u001b[39m google\u001b[38;5;241m.\u001b[39mauth\u001b[38;5;241m.\u001b[39mload_credentials_from_file(\n\u001b[1;32m    175\u001b[0m             client_options\u001b[38;5;241m.\u001b[39mcredentials_file, scopes\u001b[38;5;241m=\u001b[39mscopes\n\u001b[1;32m    176\u001b[0m         )\n\u001b[1;32m    177\u001b[0m     \u001b[38;5;28;01melse\u001b[39;00m:\n\u001b[0;32m--> 178\u001b[0m         credentials, _ \u001b[38;5;241m=\u001b[39m \u001b[43mgoogle\u001b[49m\u001b[38;5;241;43m.\u001b[39;49m\u001b[43mauth\u001b[49m\u001b[38;5;241;43m.\u001b[39;49m\u001b[43mdefault\u001b[49m\u001b[43m(\u001b[49m\u001b[43mscopes\u001b[49m\u001b[38;5;241;43m=\u001b[39;49m\u001b[43mscopes\u001b[49m\u001b[43m)\u001b[49m\n\u001b[1;32m    180\u001b[0m \u001b[38;5;28mself\u001b[39m\u001b[38;5;241m.\u001b[39m_credentials \u001b[38;5;241m=\u001b[39m google\u001b[38;5;241m.\u001b[39mauth\u001b[38;5;241m.\u001b[39mcredentials\u001b[38;5;241m.\u001b[39mwith_scopes_if_required(\n\u001b[1;32m    181\u001b[0m     credentials, scopes\u001b[38;5;241m=\u001b[39mscopes\n\u001b[1;32m    182\u001b[0m )\n\u001b[1;32m    184\u001b[0m \u001b[38;5;28;01mif\u001b[39;00m client_options\u001b[38;5;241m.\u001b[39mquota_project_id:\n",
      "File \u001b[0;32m~/virtualenvs/python_3_12/lib/python3.12/site-packages/google/auth/_default.py:657\u001b[0m, in \u001b[0;36mdefault\u001b[0;34m(scopes, request, quota_project_id, default_scopes)\u001b[0m\n\u001b[1;32m    645\u001b[0m checkers \u001b[38;5;241m=\u001b[39m (\n\u001b[1;32m    646\u001b[0m     \u001b[38;5;66;03m# Avoid passing scopes here to prevent passing scopes to user credentials.\u001b[39;00m\n\u001b[1;32m    647\u001b[0m     \u001b[38;5;66;03m# with_scopes_if_required() below will ensure scopes/default scopes are\u001b[39;00m\n\u001b[0;32m   (...)\u001b[0m\n\u001b[1;32m    653\u001b[0m     \u001b[38;5;28;01mlambda\u001b[39;00m: _get_gce_credentials(request, quota_project_id\u001b[38;5;241m=\u001b[39mquota_project_id),\n\u001b[1;32m    654\u001b[0m )\n\u001b[1;32m    656\u001b[0m \u001b[38;5;28;01mfor\u001b[39;00m checker \u001b[38;5;129;01min\u001b[39;00m checkers:\n\u001b[0;32m--> 657\u001b[0m     credentials, project_id \u001b[38;5;241m=\u001b[39m \u001b[43mchecker\u001b[49m\u001b[43m(\u001b[49m\u001b[43m)\u001b[49m\n\u001b[1;32m    658\u001b[0m     \u001b[38;5;28;01mif\u001b[39;00m credentials \u001b[38;5;129;01mis\u001b[39;00m \u001b[38;5;129;01mnot\u001b[39;00m \u001b[38;5;28;01mNone\u001b[39;00m:\n\u001b[1;32m    659\u001b[0m         credentials \u001b[38;5;241m=\u001b[39m with_scopes_if_required(\n\u001b[1;32m    660\u001b[0m             credentials, scopes, default_scopes\u001b[38;5;241m=\u001b[39mdefault_scopes\n\u001b[1;32m    661\u001b[0m         )\n",
      "File \u001b[0;32m~/virtualenvs/python_3_12/lib/python3.12/site-packages/google/auth/_default.py:650\u001b[0m, in \u001b[0;36mdefault.<locals>.<lambda>\u001b[0;34m()\u001b[0m\n\u001b[1;32m    639\u001b[0m \u001b[38;5;28;01mfrom\u001b[39;00m \u001b[38;5;21;01mgoogle\u001b[39;00m\u001b[38;5;21;01m.\u001b[39;00m\u001b[38;5;21;01mauth\u001b[39;00m\u001b[38;5;21;01m.\u001b[39;00m\u001b[38;5;21;01mcredentials\u001b[39;00m \u001b[38;5;28;01mimport\u001b[39;00m CredentialsWithQuotaProject\n\u001b[1;32m    641\u001b[0m explicit_project_id \u001b[38;5;241m=\u001b[39m os\u001b[38;5;241m.\u001b[39menviron\u001b[38;5;241m.\u001b[39mget(\n\u001b[1;32m    642\u001b[0m     environment_vars\u001b[38;5;241m.\u001b[39mPROJECT, os\u001b[38;5;241m.\u001b[39menviron\u001b[38;5;241m.\u001b[39mget(environment_vars\u001b[38;5;241m.\u001b[39mLEGACY_PROJECT)\n\u001b[1;32m    643\u001b[0m )\n\u001b[1;32m    645\u001b[0m checkers \u001b[38;5;241m=\u001b[39m (\n\u001b[1;32m    646\u001b[0m     \u001b[38;5;66;03m# Avoid passing scopes here to prevent passing scopes to user credentials.\u001b[39;00m\n\u001b[1;32m    647\u001b[0m     \u001b[38;5;66;03m# with_scopes_if_required() below will ensure scopes/default scopes are\u001b[39;00m\n\u001b[1;32m    648\u001b[0m     \u001b[38;5;66;03m# safely set on the returned credentials since requires_scopes will\u001b[39;00m\n\u001b[1;32m    649\u001b[0m     \u001b[38;5;66;03m# guard against setting scopes on user credentials.\u001b[39;00m\n\u001b[0;32m--> 650\u001b[0m     \u001b[38;5;28;01mlambda\u001b[39;00m: \u001b[43m_get_explicit_environ_credentials\u001b[49m\u001b[43m(\u001b[49m\u001b[43mquota_project_id\u001b[49m\u001b[38;5;241;43m=\u001b[39;49m\u001b[43mquota_project_id\u001b[49m\u001b[43m)\u001b[49m,\n\u001b[1;32m    651\u001b[0m     \u001b[38;5;28;01mlambda\u001b[39;00m: _get_gcloud_sdk_credentials(quota_project_id\u001b[38;5;241m=\u001b[39mquota_project_id),\n\u001b[1;32m    652\u001b[0m     _get_gae_credentials,\n\u001b[1;32m    653\u001b[0m     \u001b[38;5;28;01mlambda\u001b[39;00m: _get_gce_credentials(request, quota_project_id\u001b[38;5;241m=\u001b[39mquota_project_id),\n\u001b[1;32m    654\u001b[0m )\n\u001b[1;32m    656\u001b[0m \u001b[38;5;28;01mfor\u001b[39;00m checker \u001b[38;5;129;01min\u001b[39;00m checkers:\n\u001b[1;32m    657\u001b[0m     credentials, project_id \u001b[38;5;241m=\u001b[39m checker()\n",
      "File \u001b[0;32m~/virtualenvs/python_3_12/lib/python3.12/site-packages/google/auth/_default.py:270\u001b[0m, in \u001b[0;36m_get_explicit_environ_credentials\u001b[0;34m(quota_project_id)\u001b[0m\n\u001b[1;32m    267\u001b[0m     \u001b[38;5;28;01mreturn\u001b[39;00m _get_gcloud_sdk_credentials(quota_project_id\u001b[38;5;241m=\u001b[39mquota_project_id)\n\u001b[1;32m    269\u001b[0m \u001b[38;5;28;01mif\u001b[39;00m explicit_file \u001b[38;5;129;01mis\u001b[39;00m \u001b[38;5;129;01mnot\u001b[39;00m \u001b[38;5;28;01mNone\u001b[39;00m:\n\u001b[0;32m--> 270\u001b[0m     credentials, project_id \u001b[38;5;241m=\u001b[39m \u001b[43mload_credentials_from_file\u001b[49m\u001b[43m(\u001b[49m\n\u001b[1;32m    271\u001b[0m \u001b[43m        \u001b[49m\u001b[43mos\u001b[49m\u001b[38;5;241;43m.\u001b[39;49m\u001b[43menviron\u001b[49m\u001b[43m[\u001b[49m\u001b[43menvironment_vars\u001b[49m\u001b[38;5;241;43m.\u001b[39;49m\u001b[43mCREDENTIALS\u001b[49m\u001b[43m]\u001b[49m\u001b[43m,\u001b[49m\u001b[43m \u001b[49m\u001b[43mquota_project_id\u001b[49m\u001b[38;5;241;43m=\u001b[39;49m\u001b[43mquota_project_id\u001b[49m\n\u001b[1;32m    272\u001b[0m \u001b[43m    \u001b[49m\u001b[43m)\u001b[49m\n\u001b[1;32m    274\u001b[0m     \u001b[38;5;28;01mreturn\u001b[39;00m credentials, project_id\n\u001b[1;32m    276\u001b[0m \u001b[38;5;28;01melse\u001b[39;00m:\n",
      "File \u001b[0;32m~/virtualenvs/python_3_12/lib/python3.12/site-packages/google/auth/_default.py:126\u001b[0m, in \u001b[0;36mload_credentials_from_file\u001b[0;34m(filename, scopes, default_scopes, quota_project_id, request)\u001b[0m\n\u001b[1;32m    122\u001b[0m         new_exc \u001b[38;5;241m=\u001b[39m exceptions\u001b[38;5;241m.\u001b[39mDefaultCredentialsError(\n\u001b[1;32m    123\u001b[0m             \u001b[38;5;124m\"\u001b[39m\u001b[38;5;124mFile \u001b[39m\u001b[38;5;132;01m{}\u001b[39;00m\u001b[38;5;124m is not a valid json file.\u001b[39m\u001b[38;5;124m\"\u001b[39m\u001b[38;5;241m.\u001b[39mformat(filename), caught_exc\n\u001b[1;32m    124\u001b[0m         )\n\u001b[1;32m    125\u001b[0m         \u001b[38;5;28;01mraise\u001b[39;00m new_exc \u001b[38;5;28;01mfrom\u001b[39;00m \u001b[38;5;21;01mcaught_exc\u001b[39;00m\n\u001b[0;32m--> 126\u001b[0m \u001b[38;5;28;01mreturn\u001b[39;00m \u001b[43m_load_credentials_from_info\u001b[49m\u001b[43m(\u001b[49m\n\u001b[1;32m    127\u001b[0m \u001b[43m    \u001b[49m\u001b[43mfilename\u001b[49m\u001b[43m,\u001b[49m\u001b[43m \u001b[49m\u001b[43minfo\u001b[49m\u001b[43m,\u001b[49m\u001b[43m \u001b[49m\u001b[43mscopes\u001b[49m\u001b[43m,\u001b[49m\u001b[43m \u001b[49m\u001b[43mdefault_scopes\u001b[49m\u001b[43m,\u001b[49m\u001b[43m \u001b[49m\u001b[43mquota_project_id\u001b[49m\u001b[43m,\u001b[49m\u001b[43m \u001b[49m\u001b[43mrequest\u001b[49m\n\u001b[1;32m    128\u001b[0m \u001b[43m\u001b[49m\u001b[43m)\u001b[49m\n",
      "File \u001b[0;32m~/virtualenvs/python_3_12/lib/python3.12/site-packages/google/auth/_default.py:213\u001b[0m, in \u001b[0;36m_load_credentials_from_info\u001b[0;34m(filename, info, scopes, default_scopes, quota_project_id, request)\u001b[0m\n\u001b[1;32m    211\u001b[0m     credentials, project_id \u001b[38;5;241m=\u001b[39m _get_gdch_service_account_credentials(filename, info)\n\u001b[1;32m    212\u001b[0m \u001b[38;5;28;01melse\u001b[39;00m:\n\u001b[0;32m--> 213\u001b[0m     \u001b[38;5;28;01mraise\u001b[39;00m exceptions\u001b[38;5;241m.\u001b[39mDefaultCredentialsError(\n\u001b[1;32m    214\u001b[0m         \u001b[38;5;124m\"\u001b[39m\u001b[38;5;124mThe file \u001b[39m\u001b[38;5;132;01m{file}\u001b[39;00m\u001b[38;5;124m does not have a valid type. \u001b[39m\u001b[38;5;124m\"\u001b[39m\n\u001b[1;32m    215\u001b[0m         \u001b[38;5;124m\"\u001b[39m\u001b[38;5;124mType is \u001b[39m\u001b[38;5;132;01m{type}\u001b[39;00m\u001b[38;5;124m, expected one of \u001b[39m\u001b[38;5;132;01m{valid_types}\u001b[39;00m\u001b[38;5;124m.\u001b[39m\u001b[38;5;124m\"\u001b[39m\u001b[38;5;241m.\u001b[39mformat(\n\u001b[1;32m    216\u001b[0m             file\u001b[38;5;241m=\u001b[39mfilename, \u001b[38;5;28mtype\u001b[39m\u001b[38;5;241m=\u001b[39mcredential_type, valid_types\u001b[38;5;241m=\u001b[39m_VALID_TYPES\n\u001b[1;32m    217\u001b[0m         )\n\u001b[1;32m    218\u001b[0m     )\n\u001b[1;32m    219\u001b[0m \u001b[38;5;28;01mif\u001b[39;00m \u001b[38;5;28misinstance\u001b[39m(credentials, CredentialsWithQuotaProject):\n\u001b[1;32m    220\u001b[0m     credentials \u001b[38;5;241m=\u001b[39m _apply_quota_project_id(credentials, quota_project_id)\n",
      "\u001b[0;31mDefaultCredentialsError\u001b[0m: The file credentials.json does not have a valid type. Type is None, expected one of ('authorized_user', 'service_account', 'external_account', 'external_account_authorized_user', 'impersonated_service_account', 'gdch_service_account')."
     ]
    }
   ],
   "source": [
    "%load_ext autoreload\n",
    "import config_read\n",
    "import send_email\n",
    "import utils\n",
    "import State\n",
    "import tests \n",
    "import os\n",
    "import numpy as np\n",
    "import shutil\n",
    "from datetime import timedelta\n",
    "import re\n",
    "from google.cloud import storage\n",
    "from google.api_core.exceptions import Forbidden, NotFound\n",
    "import validation\n",
    "import algorithm\n",
    "\n",
    "AVAILABILITIES_RANGE = 'Form Responses 1!B1:BP'\n",
    "DEMAND_RANGE = 'Demand!A2:E'\n",
    "\n",
    "config = config_read.read_config(\"config.json\")\n",
    "validation.validate_config(config)\n",
    "\n",
    "# Get availabilities data\n",
    "availabilities_id = config_read.get_google_sheets_id(config[\"availabilities_link\"])\n",
    "availabilities = utils.get_availabilities(availabilities_id, AVAILABILITIES_RANGE)\n",
    "validation.validate_availabilities(availabilities)\n",
    "\n",
    "# Get OH demand data\n",
    "demand_id = config_read.get_google_sheets_id(config[\"demand_link\"])\n",
    "demand = utils.get_demand(demand_id, DEMAND_RANGE, config[\"weeks\"])\n",
    "\n",
    "# Get last state\n",
    "prefix = f\"{config['class']}-{config['semester']}\"\n",
    "latest_week = -1\n",
    "print(latest_week)\n",
    "if latest_week > -1:\n",
    "    last_state = utils.deserialize(config.get(\"project_id\"), config[\"bucket_name\"], latest_week, config[\"weeks_skipped\"], prefix)\n",
    "else:\n",
    "    last_state = None\n",
    "\n",
    "if last_state and last_state.week_num == config[\"weeks\"]:\n",
    "    print(f\"ERROR: The algorithm has already been run for all weeks. The last state was for week {config['weeks']}. Exiting.\")\n",
    "\n",
    "if latest_week == config['weeks']:\n",
    "    raise RuntimeError(\"Allotted # of weeks have already passed. Exiting.\")\n",
    "\n",
    "# Create new state object\n",
    "state = State.State(last_state, \n",
    "                    demand, \n",
    "                    availabilities, \n",
    "                    config[\"class\"], \n",
    "                    config[\"semester\"], \n",
    "                    config[\"weeks\"], \n",
    "                    config[\"weekly_hour_multiplier\"], \n",
    "                    config[\"weeks_skipped\"])"
   ]
  },
  {
   "cell_type": "code",
   "execution_count": null,
   "metadata": {},
   "outputs": [],
   "source": [
    "from bidict import bidict\n",
    "\n",
    "assignments = []\n",
    "for i in range(len(old_state.bi_mappings)):\n",
    "    email = old_state.bi_mappings.inverse[i]\n",
    "    assignments.append(old_state.course_staff_dict[email].assigned_hours)\n",
    "\n",
    "assignments = np.stack(assignments)\n",
    "assignments"
   ]
  },
  {
   "cell_type": "code",
   "execution_count": null,
   "metadata": {},
   "outputs": [],
   "source": [
    "%load_ext autoreload\n",
    "state.get_course_staff(\"ritiksinha1@berkeley.edu\").adjust_oh_hours(-3)\n",
    "state.get_course_staff(\"cyrushung822@berkeley.edu\").adjust_oh_hours(-1)\n",
    "state.get_course_staff(\"mihirm@berkeley.edu\").adjust_oh_hours(-3)\n",
    "state.get_course_staff(\"mingxiaowei@berkeley.edu\").adjust_oh_hours(-1)\n",
    "\n",
    "state.get_course_staff(\"williamding@berkeley.edu\").adjust_oh_hours(-2)\n",
    "state.get_course_staff(\"runjeetnarula@berkeley.edu\").adjust_oh_hours(-2)\n",
    "state.get_course_staff(\"matthew.t.nguyen@berkeley.edu\").adjust_oh_hours(-2)\n",
    "state.get_course_staff(\"ananthgoyal@berkeley.edu\").adjust_oh_hours(-2)\n",
    "state.get_course_staff(\"riya.singhal@berkeley.edu\").adjust_oh_hours(-2)\n",
    "state.get_course_staff(\"suhanisinghal04@berkeley.edu\").adjust_oh_hours(-2)\n",
    "state.get_course_staff(\"ronaldarifin@berkeley.edu\").adjust_oh_hours(-2)\n",
    "\n",
    "state.get_course_staff(\"adara@berkeley.edu\").adjust_oh_hours(-2)\n",
    "state.get_course_staff(\"jadewang26@berkeley.edu\").adjust_oh_hours(-2)\n",
    "state.get_course_staff(\"mihirm@berkeley.edu\").adjust_oh_hours(-2)\n",
    "state.get_course_staff(\"awang03@berkeley.edu\").adjust_oh_hours(-2)\n",
    "state.get_course_staff(\"yihhang@berkeley.edu\").adjust_oh_hours(-2)\n",
    "\n",
    "state.get_course_staff(\"huanzhimao@berkeley.edu\").adjust_oh_hours(-2)\n",
    "state.get_course_staff(\"esduan@berkeley.edu\").adjust_oh_hours(-2)\n",
    "state.get_course_staff(\"kennywchen@berkeley.edu\").adjust_oh_hours(-2)\n",
    "state.get_course_staff(\"haileeyun@berkeley.edu\").adjust_oh_hours(-2)\n",
    "state.get_course_staff(\"ritiksinha1@berkeley.edu\").adjust_oh_hours(-2)\n",
    "state.get_course_staff(\"alan101@berkeley.edu\").adjust_oh_hours(-2)\n",
    "\n",
    "state.get_course_staff(\"richik.pal@berkeley.edu\").adjust_oh_hours(-2)\n",
    "state.get_course_staff(\"sophiawliu@berkeley.edu\").adjust_oh_hours(-2)\n",
    "state.get_course_staff(\"rikio@berkeley.edu\").adjust_oh_hours(-2)\n",
    "state.get_course_staff(\"shamith09@berkeley.edu\").adjust_oh_hours(-2)\n",
    "state.get_course_staff(\"bryanchu8@berkeley.edu\").adjust_oh_hours(-2)\n",
    "state.get_course_staff(\"vyho@berkeley.edu\").adjust_oh_hours(-2)\n",
    "state.get_course_staff(\"aureliawang@berkeley.edu\").adjust_oh_hours(-2)\n",
    "\n",
    "state.get_course_staff(\"juliaisaac@berkeley.edu\").adjust_oh_hours(1)\n",
    "state.get_course_staff(\"thomasjculhane@berkeley.edu\").adjust_oh_hours(1)\n",
    "state.get_course_staff(\"richik.pal@berkeley.edu\").adjust_oh_hours(3)\n",
    "state.get_course_staff(\"shamith09@berkeley.edu\").adjust_oh_hours(3)\n",
    "state.get_course_staff(\"esduan@berkeley.edu\").adjust_oh_hours(3)\n",
    "state.get_course_staff(\"mihirm@berkeley.edu\").adjust_oh_hours(3)\n",
    "state.get_course_staff(\"riya.singhal@berkeley.edu\").adjust_oh_hours(3)\n",
    "state.get_course_staff(\"sophiawliu@berkeley.edu\").adjust_oh_hours(3)\n",
    "state.get_course_staff(\"ananthgoyal@berkeley.edu\").adjust_oh_hours(2)"
   ]
  },
  {
   "cell_type": "code",
   "execution_count": null,
   "metadata": {},
   "outputs": [],
   "source": [
    "state.serialize(config[\"project_id\"], config[\"bucket_name\"], prefix)"
   ]
  }
 ],
 "metadata": {
  "kernelspec": {
   "display_name": "Python 3 (ipykernel)",
   "language": "python",
   "name": "python3"
  },
  "language_info": {
   "codemirror_mode": {
    "name": "ipython",
    "version": 3
   },
   "file_extension": ".py",
   "mimetype": "text/x-python",
   "name": "python",
   "nbconvert_exporter": "python",
   "pygments_lexer": "ipython3",
   "version": "3.12.5"
  }
 },
 "nbformat": 4,
 "nbformat_minor": 4
}
